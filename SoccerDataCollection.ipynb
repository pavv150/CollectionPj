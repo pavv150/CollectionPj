{
 "cells": [
  {
   "cell_type": "code",
   "execution_count": 1,
   "id": "3a081d51",
   "metadata": {},
   "outputs": [],
   "source": [
    "from selenium.webdriver import Chrome\n",
    "from selenium.webdriver.common.by import By\n",
    "from selenium.webdriver.chrome.service import Service\n",
    "from selenium.webdriver.common.keys import Keys\n",
    "from bs4 import BeautifulSoup\n",
    "import time\n",
    "import pandas as pd\n",
    "import csv\n",
    "import os"
   ]
  },
  {
   "cell_type": "code",
   "execution_count": 2,
   "id": "c3741bed",
   "metadata": {},
   "outputs": [
    {
     "name": "stdout",
     "output_type": "stream",
     "text": [
      "(['62.58', '점유율', '37.42', '9', '슈팅', '9', '1', '유효슈팅', '8', '16', '파울', '17', '2', '경고', '4', '0', '퇴장', '0', '0', '퇴장', '(경고누적)', '0', '6', '코너킥', '1', '17', '프리킥', '17', '1', '오프사이드', '0'], '0', '3')\n",
      "('제주', '포항')\n",
      "(7.04, 6.64)\n"
     ]
    }
   ],
   "source": [
    "chrome = Chrome()\n",
    "\n",
    "urlnum = [4,11,17,21,28,35,42,48,51,58,66,72,76,80,89,92,99,107,110,115,126,132,136,144,148,151,159,165,171,177,185,192,196,201,205,211,221,228] \n",
    "rounder = [1,2,3,4,5,6,7,8,9,10,11,12,13,14,15,16,17,18,19,20,21,22,23,24,25,26,27,28,29,30,31,32,33,34,35,36,37,38]\n",
    "def url_move(urlnum):\n",
    "    time.sleep(3)\n",
    "    url = f\"https://www.kleague.com/match.do?year=2022&leagueId=1&gameId={urlnum}&meetSeq=1&startTabNum=1\" # 포항\n",
    "    chrome.get(url)\n",
    "\n",
    "def myforms(myform,score):\n",
    "    mf = myform.get_text(' ').replace('\\n','').split(' ')\n",
    "    mf = [value for value in mf if value != \"\"]\n",
    "    return mf,score.text[0:1],score.text[2:3]\n",
    "\n",
    "\n",
    "def avg(myforms):\n",
    "    result = 0\n",
    "    result2 = 0\n",
    "    for i in range(len(myforms)):\n",
    "        if i <= 11:\n",
    "            result += float(myforms[i][0:3])\n",
    "        else:\n",
    "            result2 +=float(myforms[i][0:3])\n",
    "    avg = result/11\n",
    "    avg2 = result2/11\n",
    "    return round(avg,2),round(avg2,2)\n",
    "def myformAvg():\n",
    "    btn = chrome.find_element(by = 'xpath', value = '/html/body/div[2]/div/ul/li[2]/span').click()\n",
    "    myform = BeautifulSoup(response).find('div', {'class':'formation'})\n",
    "    myforms = myform.get_text().replace(' ','').split()\n",
    "    return avg(myforms)  #팀평균\n",
    "    \n",
    "def teamname():\n",
    "    teamform = BeautifulSoup(response).find('div', {'class':'score-box'})\n",
    "    team = teamform.select('body > div.sub-top.match > div > div.score-box > div:nth-child(1)')[0].get_text().replace('\\n','').replace(' ','')[0:2]\n",
    "    team2 = teamform.select('body > div.sub-top.match > div > div.score-box > div:nth-child(3)')[0].get_text().replace('\\n','').replace(' ','')[0:2]\n",
    "    return team,team2\n",
    "\n",
    "\n",
    "\n",
    "filepath='C:/Users/kgitbank401/실습1/test.csv'\n",
    "csvFile = open(filepath,'a',newline='')\n",
    "writer = csv.writer(csvFile)\n",
    "writer.writerow(('홈','어웨이','라운드','점유율','슈팅','유효슈팅','파울','경고','퇴장','코너킥','프리킥','오프사이드','평점','스코어'))\n",
    "\n",
    "def Csv(writer,rounder):\n",
    "    try:\n",
    "        writer.writerow((\n",
    "        teamname()[0],#홈\n",
    "        teamname()[1],#어웨이\n",
    "        rounder,#라운드\n",
    "        f'{myforms(myform,score)[0][0]}:{myforms(myform,score)[0][2]}',#점유율\n",
    "        f'{myforms(myform,score)[0][3]}:{myforms(myform,score)[0][5]}',#슈팅\n",
    "        f'{myforms(myform,score)[0][6]}:{myforms(myform,score)[0][8]}',#유효슈팅\n",
    "        f'{myforms(myform,score)[0][9]}:{myforms(myform,score)[0][11]}',#파울\n",
    "        f'{myforms(myform,score)[0][12]}:{myforms(myform,score)[0][14]}',#경고\n",
    "        f'{myforms(myform,score)[0][15]}:{myforms(myform,score)[0][17]}',#퇴장\n",
    "        f'{myforms(myform,score)[0][22]}:{myforms(myform,score)[0][24]}',#코너킥\n",
    "        f'{myforms(myform,score)[0][25]}:{myforms(myform,score)[0][27]}',#프리킥\n",
    "        f'{myforms(myform,score)[0][28]}:{myforms(myform,score)[0][30]}',#오프사이드\n",
    "        f'{myformAvg()[0]}:{myformAvg()[1]}',#평점\n",
    "        f'{myforms(myform,score)[1]}:{myforms(myform,score)[2]}'#스코어     \n",
    "        ))\n",
    "    finally:\n",
    "        csvFile.close()\n",
    "    \n",
    "    \n",
    "url_move(urlnum[0])\n",
    "response = chrome.page_source\n",
    "myform = BeautifulSoup(response).find('div', {'class':'btn-cont'})\n",
    "score = BeautifulSoup(response).find('div', {'class':'score campton'})\n",
    "print(myforms(myform,score)) #왼쪽 제주 오른쪽 포항\n",
    "print(teamname())\n",
    "print(myformAvg())\n",
    "Csv(writer,rounder[0])\n",
    "\n"
   ]
  },
  {
   "cell_type": "code",
   "execution_count": 3,
   "id": "d61ae367",
   "metadata": {},
   "outputs": [
    {
     "name": "stdout",
     "output_type": "stream",
     "text": [
      "(['51.35', '점유율', '48.65', '7', '슈팅', '12', '5', '유효슈팅', '8', '8', '파울', '14', '2', '경고', '3', '0', '퇴장', '0', '0', '퇴장', '(경고누적)', '0', '4', '코너킥', '5', '9', '프리킥', '16', '1', '오프사이드', '2'], '3', '2')\n",
      "('김천', '포항')\n",
      "(7.67, 6.13)\n"
     ]
    }
   ],
   "source": [
    "# 22.2월 2라운드\n",
    "    \n",
    "url_move(urlnum[1])\n",
    "response = chrome.page_source\n",
    "myform = BeautifulSoup(response).find('div', {'class':'btn-cont'})\n",
    "score = BeautifulSoup(response).find('div', {'class':'score campton'})\n",
    "print(myforms(myform,score)) #왼쪽 김천 오른쪽 포항\n",
    "print(teamname())\n",
    "print(myformAvg())\n",
    "filepath='C:/Users/kgitbank401/실습1/test.csv'\n",
    "csvFile = open(filepath,'a',newline='')\n",
    "writer = csv.writer(csvFile)\n",
    "Csv(writer,rounder[1])\n"
   ]
  },
  {
   "cell_type": "code",
   "execution_count": 4,
   "id": "bac6324a",
   "metadata": {},
   "outputs": [
    {
     "name": "stdout",
     "output_type": "stream",
     "text": [
      "(['61.29', '점유율', '38.71', '8', '슈팅', '15', '4', '유효슈팅', '8', '15', '파울', '18', '4', '경고', '2', '0', '퇴장', '0', '0', '퇴장', '(경고누적)', '0', '6', '코너킥', '5', '19', '프리킥', '18', '4', '오프사이드', '0'], '0', '1')\n",
      "('전북', '포항')\n",
      "(7.15, 6.24)\n"
     ]
    }
   ],
   "source": [
    "# 22.3월 3라운드\n",
    "\n",
    "url_move(urlnum[2])\n",
    "response = chrome.page_source\n",
    "myform = BeautifulSoup(response).find('div', {'class':'btn-cont'})\n",
    "score = BeautifulSoup(response).find('div', {'class':'score campton'})\n",
    "print(myforms(myform,score)) #왼쪽 전북 오른쪽 포항\n",
    "print(teamname())\n",
    "print(myformAvg())\n",
    "filepath='C:/Users/kgitbank401/실습1/test.csv'\n",
    "csvFile = open(filepath,'a',newline='')\n",
    "writer = csv.writer(csvFile)\n",
    "Csv(writer,rounder[2])"
   ]
  },
  {
   "cell_type": "code",
   "execution_count": 5,
   "id": "40b21594",
   "metadata": {},
   "outputs": [
    {
     "name": "stdout",
     "output_type": "stream",
     "text": [
      "(['57.10', '점유율', '42.90', '4', '슈팅', '10', '4', '유효슈팅', '4', '10', '파울', '10', '2', '경고', '2', '0', '퇴장', '0', '0', '퇴장', '(경고누적)', '0', '7', '코너킥', '5', '12', '프리킥', '10', '2', '오프사이드', '0'], '0', '1')\n",
      "('인천', '포항')\n",
      "(7.67, 6.58)\n"
     ]
    }
   ],
   "source": [
    "# 22.3월 4라운드\n",
    "\n",
    "url_move(urlnum[3])\n",
    "response = chrome.page_source\n",
    "myform = BeautifulSoup(response).find('div', {'class':'btn-cont'})\n",
    "score = BeautifulSoup(response).find('div', {'class':'score campton'})\n",
    "print(myforms(myform,score)) #왼쪽 인천 오른쪽 포항\n",
    "print(teamname())\n",
    "print(myformAvg())\n",
    "filepath='C:/Users/kgitbank401/실습1/test.csv'\n",
    "csvFile = open(filepath,'a',newline='')\n",
    "writer = csv.writer(csvFile)\n",
    "Csv(writer,rounder[3])"
   ]
  },
  {
   "cell_type": "code",
   "execution_count": 6,
   "id": "5e9b2982",
   "metadata": {},
   "outputs": [
    {
     "name": "stdout",
     "output_type": "stream",
     "text": [
      "(['46.49', '점유율', '53.51', '7', '슈팅', '8', '3', '유효슈팅', '6', '11', '파울', '16', '0', '경고', '3', '0', '퇴장', '0', '0', '퇴장', '(경고누적)', '0', '1', '코너킥', '6', '12', '프리킥', '18', '1', '오프사이드', '2'], '1', '1')\n",
      "('수원', '포항')\n",
      "(7.07, 6.02)\n"
     ]
    }
   ],
   "source": [
    "# 22.3월 5라운드\n",
    "\n",
    "url_move(urlnum[4])\n",
    "response = chrome.page_source\n",
    "myform = BeautifulSoup(response).find('div', {'class':'btn-cont'})\n",
    "score = BeautifulSoup(response).find('div', {'class':'score campton'})\n",
    "print(myforms(myform,score)) #왼쪽 전북 오른쪽 포항\n",
    "print(teamname())\n",
    "print(myformAvg())\n",
    "filepath='C:/Users/kgitbank401/실습1/test.csv'\n",
    "csvFile = open(filepath,'a',newline='')\n",
    "writer = csv.writer(csvFile)\n",
    "Csv(writer,rounder[4])"
   ]
  },
  {
   "cell_type": "code",
   "execution_count": 7,
   "id": "49cd636c",
   "metadata": {},
   "outputs": [
    {
     "name": "stdout",
     "output_type": "stream",
     "text": [
      "(['51.37', '점유율', '48.63', '11', '슈팅', '5', '8', '유효슈팅', '3', '12', '파울', '13', '3', '경고', '3', '0', '퇴장', '0', '0', '퇴장', '(경고누적)', '0', '4', '코너킥', '5', '12', '프리킥', '13', '0', '오프사이드', '0'], '2', '0')\n",
      "('울산', '포항')\n",
      "(7.58, 5.76)\n"
     ]
    }
   ],
   "source": [
    "# 22.3월 6라운드\n",
    "\n",
    "url_move(urlnum[5])\n",
    "response = chrome.page_source\n",
    "myform = BeautifulSoup(response).find('div', {'class':'btn-cont'})\n",
    "score = BeautifulSoup(response).find('div', {'class':'score campton'})\n",
    "print(myforms(myform,score)) #왼쪽 전북 오른쪽 포항\n",
    "print(teamname())\n",
    "print(myformAvg())\n",
    "filepath='C:/Users/kgitbank401/실습1/test.csv'\n",
    "csvFile = open(filepath,'a',newline='')\n",
    "writer = csv.writer(csvFile)\n",
    "Csv(writer,rounder[5])"
   ]
  },
  {
   "cell_type": "code",
   "execution_count": 8,
   "id": "64989b65",
   "metadata": {},
   "outputs": [
    {
     "name": "stdout",
     "output_type": "stream",
     "text": [
      "(['32.79', '점유율', '67.21', '10', '슈팅', '5', '6', '유효슈팅', '3', '17', '파울', '13', '0', '경고', '3', '0', '퇴장', '0', '0', '퇴장', '(경고누적)', '0', '3', '코너킥', '2', '17', '프리킥', '14', '0', '오프사이드', '1'], '1', '1')\n",
      "('포항', '서울')\n",
      "(7.45, 6.15)\n"
     ]
    }
   ],
   "source": [
    "# 22.4월 7라운드\n",
    "\n",
    "url_move(urlnum[6])\n",
    "response = chrome.page_source\n",
    "myform = BeautifulSoup(response).find('div', {'class':'btn-cont'})\n",
    "score = BeautifulSoup(response).find('div', {'class':'score campton'})\n",
    "print(myforms(myform,score)) #왼쪽 포항 오른쪽 서울\n",
    "print(teamname())\n",
    "print(myformAvg())\n",
    "filepath='C:/Users/kgitbank401/실습1/test.csv'\n",
    "csvFile = open(filepath,'a',newline='')\n",
    "writer = csv.writer(csvFile)\n",
    "Csv(writer,rounder[6])"
   ]
  },
  {
   "cell_type": "code",
   "execution_count": 9,
   "id": "8f9e46f5",
   "metadata": {},
   "outputs": [
    {
     "name": "stdout",
     "output_type": "stream",
     "text": [
      "(['52.79', '점유율', '47.21', '15', '슈팅', '5', '9', '유효슈팅', '0', '18', '파울', '7', '5', '경고', '1', '0', '퇴장', '0', '0', '퇴장', '(경고누적)', '0', '7', '코너킥', '5', '20', '프리킥', '7', '2', '오프사이드', '0'], '2', '0')\n",
      "('포항', '수원')\n",
      "(7.56, 5.78)\n"
     ]
    }
   ],
   "source": [
    "# 22.4월 8라운드\n",
    "\n",
    "url_move(urlnum[7])\n",
    "response = chrome.page_source\n",
    "myform = BeautifulSoup(response).find('div', {'class':'btn-cont'})\n",
    "score = BeautifulSoup(response).find('div', {'class':'score campton'})\n",
    "print(myforms(myform,score)) #왼쪽 포항 오른쪽 수원\n",
    "print(teamname())\n",
    "print(myformAvg())\n",
    "filepath='C:/Users/kgitbank401/실습1/test.csv'\n",
    "csvFile = open(filepath,'a',newline='')\n",
    "writer = csv.writer(csvFile)\n",
    "Csv(writer,rounder[7])"
   ]
  },
  {
   "cell_type": "code",
   "execution_count": 10,
   "id": "9f172f31",
   "metadata": {},
   "outputs": [
    {
     "name": "stdout",
     "output_type": "stream",
     "text": [
      "(['40.40', '점유율', '59.60', '8', '슈팅', '9', '2', '유효슈팅', '5', '11', '파울', '10', '2', '경고', '1', '0', '퇴장', '0', '0', '퇴장', '(경고누적)', '0', '2', '코너킥', '2', '16', '프리킥', '10', '5', '오프사이드', '0'], '1', '1')\n",
      "('강원', '포항')\n",
      "(7.15, 6.04)\n"
     ]
    }
   ],
   "source": [
    "# 22.4월 9라운드\n",
    "\n",
    "url_move(urlnum[8])\n",
    "response = chrome.page_source\n",
    "myform = BeautifulSoup(response).find('div', {'class':'btn-cont'})\n",
    "score = BeautifulSoup(response).find('div', {'class':'score campton'})\n",
    "print(myforms(myform,score)) #왼쪽 강원 오른쪽 포항\n",
    "print(teamname())\n",
    "print(myformAvg())\n",
    "filepath='C:/Users/kgitbank401/실습1/test.csv'\n",
    "csvFile = open(filepath,'a',newline='')\n",
    "writer = csv.writer(csvFile)\n",
    "Csv(writer,rounder[8])"
   ]
  },
  {
   "cell_type": "code",
   "execution_count": 11,
   "id": "8715de9e",
   "metadata": {},
   "outputs": [
    {
     "name": "stdout",
     "output_type": "stream",
     "text": [
      "(['55.20', '점유율', '44.80', '7', '슈팅', '6', '5', '유효슈팅', '1', '15', '파울', '13', '3', '경고', '3', '0', '퇴장', '0', '0', '퇴장', '(경고누적)', '0', '4', '코너킥', '5', '17', '프리킥', '16', '2', '오프사이드', '3'], '1', '1')\n",
      "('포항', '대구')\n",
      "(7.42, 6.31)\n"
     ]
    }
   ],
   "source": [
    "# 22.5월 10라운드\n",
    "\n",
    "url_move(urlnum[9])\n",
    "response = chrome.page_source\n",
    "myform = BeautifulSoup(response).find('div', {'class':'btn-cont'})\n",
    "score = BeautifulSoup(response).find('div', {'class':'score campton'})\n",
    "print(myforms(myform,score)) #왼쪽 강원 오른쪽 포항\n",
    "print(teamname())\n",
    "print(myformAvg())\n",
    "filepath='C:/Users/kgitbank401/실습1/test.csv'\n",
    "csvFile = open(filepath,'a',newline='')\n",
    "writer = csv.writer(csvFile)\n",
    "Csv(writer,rounder[9])"
   ]
  },
  {
   "cell_type": "code",
   "execution_count": 12,
   "id": "431faff9",
   "metadata": {},
   "outputs": [
    {
     "name": "stdout",
     "output_type": "stream",
     "text": [
      "(['56.42', '점유율', '43.58', '12', '슈팅', '2', '6', '유효슈팅', '0', '6', '파울', '14', '2', '경고', '1', '0', '퇴장', '0', '0', '퇴장', '(경고누적)', '0', '7', '코너킥', '7', '6', '프리킥', '15', '0', '오프사이드', '1'], '1', '0')\n",
      "('포항', '성남')\n",
      "(7.56, 5.62)\n"
     ]
    }
   ],
   "source": [
    "# 22.5월 11라운드\n",
    "\n",
    "url_move(urlnum[10])\n",
    "response = chrome.page_source\n",
    "myform = BeautifulSoup(response).find('div', {'class':'btn-cont'})\n",
    "score = BeautifulSoup(response).find('div', {'class':'score campton'})\n",
    "print(myforms(myform,score)) #왼쪽 강원 오른쪽 포항\n",
    "print(teamname())\n",
    "print(myformAvg())\n",
    "filepath='C:/Users/kgitbank401/실습1/test.csv'\n",
    "csvFile = open(filepath,'a',newline='')\n",
    "writer = csv.writer(csvFile)\n",
    "Csv(writer,rounder[10])"
   ]
  },
  {
   "cell_type": "code",
   "execution_count": 13,
   "id": "e1fde04e",
   "metadata": {},
   "outputs": [
    {
     "name": "stdout",
     "output_type": "stream",
     "text": [
      "(['67.64', '점유율', '32.36', '18', '슈팅', '5', '6', '유효슈팅', '2', '11', '파울', '14', '2', '경고', '1', '0', '퇴장', '0', '0', '퇴장', '(경고누적)', '0', '4', '코너킥', '4', '12', '프리킥', '15', '1', '오프사이드', '1'], '1', '0')\n",
      "('서울', '포항')\n",
      "(7.65, 5.89)\n"
     ]
    }
   ],
   "source": [
    "# 22.5월 12라운드\n",
    "\n",
    "url_move(urlnum[11])\n",
    "response = chrome.page_source\n",
    "myform = BeautifulSoup(response).find('div', {'class':'btn-cont'})\n",
    "score = BeautifulSoup(response).find('div', {'class':'score campton'})\n",
    "print(myforms(myform,score)) #왼쪽 강원 오른쪽 포항\n",
    "print(teamname())\n",
    "print(myformAvg())\n",
    "filepath='C:/Users/kgitbank401/실습1/test.csv'\n",
    "csvFile = open(filepath,'a',newline='')\n",
    "writer = csv.writer(csvFile)\n",
    "Csv(writer,rounder[11])"
   ]
  },
  {
   "cell_type": "code",
   "execution_count": 14,
   "id": "19efd139",
   "metadata": {},
   "outputs": [
    {
     "name": "stdout",
     "output_type": "stream",
     "text": [
      "(['58.78', '점유율', '41.22', '11', '슈팅', '3', '4', '유효슈팅', '1', '11', '파울', '10', '2', '경고', '3', '0', '퇴장', '0', '0', '퇴장', '(경고누적)', '0', '9', '코너킥', '3', '12', '프리킥', '10', '1', '오프사이드', '0'], '0', '1')\n",
      "('포항', '전북')\n",
      "(7.31, 6.22)\n"
     ]
    }
   ],
   "source": [
    "# 22.5월 13라운드\n",
    "\n",
    "url_move(urlnum[12])\n",
    "response = chrome.page_source\n",
    "myform = BeautifulSoup(response).find('div', {'class':'btn-cont'})\n",
    "score = BeautifulSoup(response).find('div', {'class':'score campton'})\n",
    "print(myforms(myform,score)) #왼쪽 강원 오른쪽 포항\n",
    "print(teamname())\n",
    "print(myformAvg())\n",
    "filepath='C:/Users/kgitbank401/실습1/test.csv'\n",
    "csvFile = open(filepath,'a',newline='')\n",
    "writer = csv.writer(csvFile)\n",
    "Csv(writer,rounder[12])"
   ]
  },
  {
   "cell_type": "code",
   "execution_count": 15,
   "id": "b4bf9db4",
   "metadata": {},
   "outputs": [
    {
     "name": "stdout",
     "output_type": "stream",
     "text": [
      "(['46.46', '점유율', '53.54', '13', '슈팅', '7', '9', '유효슈팅', '2', '15', '파울', '8', '2', '경고', '0', '0', '퇴장', '0', '0', '퇴장', '(경고누적)', '0', '8', '코너킥', '5', '15', '프리킥', '9', '0', '오프사이드', '1'], '2', '0')\n",
      "('포항', '인천')\n",
      "(7.84, 6.25)\n"
     ]
    }
   ],
   "source": [
    "# 22.5월 14라운드\n",
    "\n",
    "url_move(urlnum[13])\n",
    "response = chrome.page_source\n",
    "myform = BeautifulSoup(response).find('div', {'class':'btn-cont'})\n",
    "score = BeautifulSoup(response).find('div', {'class':'score campton'})\n",
    "print(myforms(myform,score)) #왼쪽 강원 오른쪽 포항\n",
    "print(teamname())\n",
    "print(myformAvg())\n",
    "filepath='C:/Users/kgitbank401/실습1/test.csv'\n",
    "csvFile = open(filepath,'a',newline='')\n",
    "writer = csv.writer(csvFile)\n",
    "Csv(writer,rounder[13])"
   ]
  },
  {
   "cell_type": "code",
   "execution_count": 16,
   "id": "442013ac",
   "metadata": {},
   "outputs": [
    {
     "name": "stdout",
     "output_type": "stream",
     "text": [
      "(['43.74', '점유율', '56.26', '17', '슈팅', '8', '6', '유효슈팅', '3', '17', '파울', '14', '0', '경고', '2', '0', '퇴장', '0', '0', '퇴장', '(경고누적)', '0', '4', '코너킥', '3', '18', '프리킥', '16', '1', '오프사이드', '2'], '2', '2')\n",
      "('대구', '포항')\n",
      "(7.56, 6.24)\n"
     ]
    }
   ],
   "source": [
    "# 22.5월 15라운드\n",
    "\n",
    "url_move(urlnum[14])\n",
    "response = chrome.page_source\n",
    "myform = BeautifulSoup(response).find('div', {'class':'btn-cont'})\n",
    "score = BeautifulSoup(response).find('div', {'class':'score campton'})\n",
    "print(myforms(myform,score)) #왼쪽 강원 오른쪽 포항\n",
    "print(teamname())\n",
    "print(myformAvg())\n",
    "filepath='C:/Users/kgitbank401/실습1/test.csv'\n",
    "csvFile = open(filepath,'a',newline='')\n",
    "writer = csv.writer(csvFile)\n",
    "Csv(writer,rounder[14])"
   ]
  },
  {
   "cell_type": "code",
   "execution_count": 17,
   "id": "43772cad",
   "metadata": {},
   "outputs": [
    {
     "name": "stdout",
     "output_type": "stream",
     "text": [
      "(['44.46', '점유율', '55.54', '9', '슈팅', '10', '7', '유효슈팅', '5', '18', '파울', '5', '3', '경고', '0', '0', '퇴장', '0', '0', '퇴장', '(경고누적)', '0', '2', '코너킥', '10', '19', '프리킥', '6', '1', '오프사이드', '1'], '3', '1')\n",
      "('포항', '강원')\n",
      "(7.65, 5.56)\n"
     ]
    }
   ],
   "source": [
    "# 22.6월 16라운드\n",
    "\n",
    "url_move(urlnum[15])\n",
    "response = chrome.page_source\n",
    "myform = BeautifulSoup(response).find('div', {'class':'btn-cont'})\n",
    "score = BeautifulSoup(response).find('div', {'class':'score campton'})\n",
    "print(myforms(myform,score)) #왼쪽 강원 오른쪽 포항\n",
    "print(teamname())\n",
    "print(myformAvg())\n",
    "filepath='C:/Users/kgitbank401/실습1/test.csv'\n",
    "csvFile = open(filepath,'a',newline='')\n",
    "writer = csv.writer(csvFile)\n",
    "Csv(writer,rounder[15])"
   ]
  },
  {
   "cell_type": "code",
   "execution_count": 18,
   "id": "7a41f99a",
   "metadata": {},
   "outputs": [
    {
     "name": "stdout",
     "output_type": "stream",
     "text": [
      "(['54.10', '점유율', '45.90', '10', '슈팅', '6', '3', '유효슈팅', '2', '9', '파울', '11', '2', '경고', '3', '0', '퇴장', '0', '0', '퇴장', '(경고누적)', '1', '3', '코너킥', '2', '10', '프리킥', '12', '1', '오프사이드', '1'], '2', '1')\n",
      "('수원', '포항')\n",
      "(7.29, 5.84)\n"
     ]
    }
   ],
   "source": [
    "# 22.6월 17라운드\n",
    "\n",
    "url_move(urlnum[16])\n",
    "response = chrome.page_source\n",
    "myform = BeautifulSoup(response).find('div', {'class':'btn-cont'})\n",
    "score = BeautifulSoup(response).find('div', {'class':'score campton'})\n",
    "print(myforms(myform,score)) #왼쪽 강원 오른쪽 포항\n",
    "print(teamname())\n",
    "print(myformAvg())\n",
    "filepath='C:/Users/kgitbank401/실습1/test.csv'\n",
    "csvFile = open(filepath,'a',newline='')\n",
    "writer = csv.writer(csvFile)\n",
    "Csv(writer,rounder[16])"
   ]
  },
  {
   "cell_type": "code",
   "execution_count": 19,
   "id": "140c192d",
   "metadata": {},
   "outputs": [
    {
     "name": "stdout",
     "output_type": "stream",
     "text": [
      "(['53.08', '점유율', '46.92', '15', '슈팅', '3', '6', '유효슈팅', '2', '10', '파울', '8', '3', '경고', '0', '0', '퇴장', '0', '0', '퇴장', '(경고누적)', '0', '6', '코너킥', '2', '12', '프리킥', '9', '2', '오프사이드', '1'], '1', '1')\n",
      "('포항', '김천')\n",
      "(7.31, 6.13)\n"
     ]
    }
   ],
   "source": [
    "# 22.6월 18라운드\n",
    "\n",
    "url_move(urlnum[17])\n",
    "response = chrome.page_source\n",
    "myform = BeautifulSoup(response).find('div', {'class':'btn-cont'})\n",
    "score = BeautifulSoup(response).find('div', {'class':'score campton'})\n",
    "print(myforms(myform,score)) #왼쪽 강원 오른쪽 포항\n",
    "print(teamname())\n",
    "print(myformAvg())\n",
    "filepath='C:/Users/kgitbank401/실습1/test.csv'\n",
    "csvFile = open(filepath,'a',newline='')\n",
    "writer = csv.writer(csvFile)\n",
    "Csv(writer,rounder[17])"
   ]
  },
  {
   "cell_type": "code",
   "execution_count": 20,
   "id": "d41032f3",
   "metadata": {},
   "outputs": [
    {
     "name": "stdout",
     "output_type": "stream",
     "text": [
      "(['33.13', '점유율', '66.87', '6', '슈팅', '5', '3', '유효슈팅', '1', '11', '파울', '10', '0', '경고', '2', '0', '퇴장', '0', '0', '퇴장', '(경고누적)', '0', '1', '코너킥', '6', '13', '프리킥', '11', '2', '오프사이드', '1'], '2', '0')\n",
      "('포항', '울산')\n",
      "(7.71, 5.45)\n"
     ]
    }
   ],
   "source": [
    "# 22.7월 19라운드\n",
    "\n",
    "url_move(urlnum[18])\n",
    "response = chrome.page_source\n",
    "myform = BeautifulSoup(response).find('div', {'class':'btn-cont'})\n",
    "score = BeautifulSoup(response).find('div', {'class':'score campton'})\n",
    "print(myforms(myform,score)) #왼쪽 강원 오른쪽 포항\n",
    "print(teamname())\n",
    "print(myformAvg())\n",
    "filepath='C:/Users/kgitbank401/실습1/test.csv'\n",
    "csvFile = open(filepath,'a',newline='')\n",
    "writer = csv.writer(csvFile)\n",
    "Csv(writer,rounder[18])"
   ]
  },
  {
   "cell_type": "code",
   "execution_count": 21,
   "id": "d03610ec",
   "metadata": {},
   "outputs": [
    {
     "name": "stdout",
     "output_type": "stream",
     "text": [
      "(['42.37', '점유율', '57.63', '16', '슈팅', '13', '9', '유효슈팅', '4', '11', '파울', '5', '3', '경고', '0', '0', '퇴장', '0', '0', '퇴장', '(경고누적)', '0', '5', '코너킥', '5', '13', '프리킥', '9', '2', '오프사이드', '4'], '1', '4')\n",
      "('성남', '포항')\n",
      "(6.93, 6.18)\n"
     ]
    }
   ],
   "source": [
    "# 22.7월 20라운드\n",
    "\n",
    "url_move(urlnum[19])\n",
    "response = chrome.page_source\n",
    "myform = BeautifulSoup(response).find('div', {'class':'btn-cont'})\n",
    "score = BeautifulSoup(response).find('div', {'class':'score campton'})\n",
    "print(myforms(myform,score)) #왼쪽 강원 오른쪽 포항\n",
    "print(teamname())\n",
    "print(myformAvg())\n",
    "filepath='C:/Users/kgitbank401/실습1/test.csv'\n",
    "csvFile = open(filepath,'a',newline='')\n",
    "writer = csv.writer(csvFile)\n",
    "Csv(writer,rounder[19])"
   ]
  },
  {
   "cell_type": "code",
   "execution_count": 22,
   "id": "99ea1b6e",
   "metadata": {},
   "outputs": [
    {
     "name": "stdout",
     "output_type": "stream",
     "text": [
      "(['56.29', '점유율', '43.71', '14', '슈팅', '6', '9', '유효슈팅', '5', '9', '파울', '7', '1', '경고', '2', '0', '퇴장', '0', '0', '퇴장', '(경고누적)', '0', '6', '코너킥', '4', '11', '프리킥', '7', '2', '오프사이드', '0'], '1', '0')\n",
      "('포항', '수원')\n",
      "(7.51, 5.87)\n"
     ]
    }
   ],
   "source": [
    "# 22.7월 21라운드\n",
    "\n",
    "url_move(urlnum[20])\n",
    "response = chrome.page_source\n",
    "myform = BeautifulSoup(response).find('div', {'class':'btn-cont'})\n",
    "score = BeautifulSoup(response).find('div', {'class':'score campton'})\n",
    "print(myforms(myform,score)) #왼쪽 강원 오른쪽 포항\n",
    "print(teamname())\n",
    "print(myformAvg())\n",
    "filepath='C:/Users/kgitbank401/실습1/test.csv'\n",
    "csvFile = open(filepath,'a',newline='')\n",
    "writer = csv.writer(csvFile)\n",
    "Csv(writer,rounder[20])"
   ]
  },
  {
   "cell_type": "code",
   "execution_count": 23,
   "id": "84d05021",
   "metadata": {
    "scrolled": true
   },
   "outputs": [
    {
     "name": "stdout",
     "output_type": "stream",
     "text": [
      "(['50.44', '점유율', '49.56', '6', '슈팅', '6', '4', '유효슈팅', '3', '10', '파울', '9', '1', '경고', '1', '0', '퇴장', '0', '0', '퇴장', '(경고누적)', '0', '3', '코너킥', '4', '11', '프리킥', '9', '1', '오프사이드', '0'], '1', '1')\n",
      "('포항', '제주')\n",
      "(7.18, 6.18)\n"
     ]
    }
   ],
   "source": [
    "# 22.7월 22라운드\n",
    "url_move(urlnum[21])\n",
    "response = chrome.page_source\n",
    "myform = BeautifulSoup(response).find('div', {'class':'btn-cont'})\n",
    "score = BeautifulSoup(response).find('div', {'class':'score campton'})\n",
    "print(myforms(myform,score)) #왼쪽 강원 오른쪽 포항\n",
    "print(teamname())\n",
    "print(myformAvg())\n",
    "filepath='C:/Users/kgitbank401/실습1/test.csv'\n",
    "csvFile = open(filepath,'a',newline='')\n",
    "writer = csv.writer(csvFile)\n",
    "Csv(writer,rounder[21])"
   ]
  },
  {
   "cell_type": "code",
   "execution_count": 24,
   "id": "3b09aa36",
   "metadata": {},
   "outputs": [
    {
     "name": "stdout",
     "output_type": "stream",
     "text": [
      "(['53.59', '점유율', '46.41', '6', '슈팅', '16', '3', '유효슈팅', '10', '11', '파울', '7', '0', '경고', '1', '0', '퇴장', '0', '0', '퇴장', '(경고누적)', '0', '5', '코너킥', '11', '11', '프리킥', '10', '0', '오프사이드', '3'], '2', '2')\n",
      "('전북', '포항')\n",
      "(7.36, 6.35)\n"
     ]
    }
   ],
   "source": [
    "# 22.7월 23라운드\n",
    "\n",
    "url_move(urlnum[22])\n",
    "response = chrome.page_source\n",
    "myform = BeautifulSoup(response).find('div', {'class':'btn-cont'})\n",
    "score = BeautifulSoup(response).find('div', {'class':'score campton'})\n",
    "print(myforms(myform,score)) #왼쪽 강원 오른쪽 포항\n",
    "print(teamname())\n",
    "print(myformAvg())\n",
    "filepath='C:/Users/kgitbank401/실습1/test.csv'\n",
    "csvFile = open(filepath,'a',newline='')\n",
    "writer = csv.writer(csvFile)\n",
    "Csv(writer,rounder[22])"
   ]
  },
  {
   "cell_type": "code",
   "execution_count": 25,
   "id": "305ec2a7",
   "metadata": {},
   "outputs": [
    {
     "name": "stdout",
     "output_type": "stream",
     "text": [
      "(['65.74', '점유율', '34.26', '4', '슈팅', '3', '2', '유효슈팅', '1', '13', '파울', '13', '3', '경고', '1', '0', '퇴장', '0', '0', '퇴장', '(경고누적)', '0', '2', '코너킥', '3', '15', '프리킥', '14', '2', '오프사이드', '1'], '1', '1')\n",
      "('포항', '인천')\n",
      "(7.24, 6.0)\n"
     ]
    }
   ],
   "source": [
    "# 22.7월 24라운드\n",
    "\n",
    "url_move(urlnum[23])\n",
    "response = chrome.page_source\n",
    "myform = BeautifulSoup(response).find('div', {'class':'btn-cont'})\n",
    "score = BeautifulSoup(response).find('div', {'class':'score campton'})\n",
    "print(myforms(myform,score)) #왼쪽 강원 오른쪽 포항\n",
    "print(teamname())\n",
    "print(myformAvg())\n",
    "filepath='C:/Users/kgitbank401/실습1/test.csv'\n",
    "csvFile = open(filepath,'a',newline='')\n",
    "writer = csv.writer(csvFile)\n",
    "Csv(writer,rounder[23])"
   ]
  },
  {
   "cell_type": "code",
   "execution_count": 26,
   "id": "65ab88a2",
   "metadata": {},
   "outputs": [
    {
     "name": "stdout",
     "output_type": "stream",
     "text": [
      "(['46.52', '점유율', '53.48', '10', '슈팅', '5', '6', '유효슈팅', '3', '15', '파울', '7', '1', '경고', '1', '0', '퇴장', '0', '0', '퇴장', '(경고누적)', '0', '7', '코너킥', '3', '17', '프리킥', '9', '2', '오프사이드', '2'], '1', '2')\n",
      "('포항', '서울')\n",
      "(7.38, 6.24)\n"
     ]
    }
   ],
   "source": [
    "# 22.7월 25라운드\n",
    "\n",
    "url_move(urlnum[24])\n",
    "response = chrome.page_source\n",
    "myform = BeautifulSoup(response).find('div', {'class':'btn-cont'})\n",
    "score = BeautifulSoup(response).find('div', {'class':'score campton'})\n",
    "print(myforms(myform,score)) #왼쪽 강원 오른쪽 포항\n",
    "print(teamname())\n",
    "print(myformAvg())\n",
    "filepath='C:/Users/kgitbank401/실습1/test.csv'\n",
    "csvFile = open(filepath,'a',newline='')\n",
    "writer = csv.writer(csvFile)\n",
    "Csv(writer,rounder[24])"
   ]
  },
  {
   "cell_type": "code",
   "execution_count": 27,
   "id": "254a3d36",
   "metadata": {},
   "outputs": [
    {
     "name": "stdout",
     "output_type": "stream",
     "text": [
      "(['41.24', '점유율', '58.76', '12', '슈팅', '13', '7', '유효슈팅', '3', '9', '파울', '6', '1', '경고', '3', '0', '퇴장', '0', '0', '퇴장', '(경고누적)', '0', '2', '코너킥', '10', '10', '프리킥', '7', '1', '오프사이드', '1'], '0', '1')\n",
      "('김천', '포항')\n",
      "(7.31, 6.24)\n"
     ]
    }
   ],
   "source": [
    "# 22.8월 26라운드\n",
    "\n",
    "url_move(urlnum[25])\n",
    "response = chrome.page_source\n",
    "myform = BeautifulSoup(response).find('div', {'class':'btn-cont'})\n",
    "score = BeautifulSoup(response).find('div', {'class':'score campton'})\n",
    "print(myforms(myform,score)) #왼쪽 강원 오른쪽 포항\n",
    "print(teamname())\n",
    "print(myformAvg())\n",
    "filepath='C:/Users/kgitbank401/실습1/test.csv'\n",
    "csvFile = open(filepath,'a',newline='')\n",
    "writer = csv.writer(csvFile)\n",
    "Csv(writer,rounder[25])"
   ]
  },
  {
   "cell_type": "code",
   "execution_count": 28,
   "id": "14685762",
   "metadata": {},
   "outputs": [
    {
     "name": "stdout",
     "output_type": "stream",
     "text": [
      "(['52.68', '점유율', '47.32', '4', '슈팅', '8', '3', '유효슈팅', '6', '3', '파울', '8', '2', '경고', '0', '0', '퇴장', '0', '0', '퇴장', '(경고누적)', '0', '6', '코너킥', '2', '6', '프리킥', '9', '3', '오프사이드', '1'], '2', '1')\n",
      "('포항', '강원')\n",
      "(7.58, 5.93)\n"
     ]
    }
   ],
   "source": [
    "# 22.8월 27라운드\n",
    "\n",
    "url_move(urlnum[26])\n",
    "response = chrome.page_source\n",
    "myform = BeautifulSoup(response).find('div', {'class':'btn-cont'})\n",
    "score = BeautifulSoup(response).find('div', {'class':'score campton'})\n",
    "print(myforms(myform,score)) #왼쪽 강원 오른쪽 포항\n",
    "print(teamname())\n",
    "print(myformAvg())\n",
    "filepath='C:/Users/kgitbank401/실습1/test.csv'\n",
    "csvFile = open(filepath,'a',newline='')\n",
    "writer = csv.writer(csvFile)\n",
    "Csv(writer,rounder[26])"
   ]
  },
  {
   "cell_type": "code",
   "execution_count": 29,
   "id": "31216637",
   "metadata": {},
   "outputs": [
    {
     "name": "stdout",
     "output_type": "stream",
     "text": [
      "(['51.86', '점유율', '48.14', '10', '슈팅', '5', '7', '유효슈팅', '0', '7', '파울', '11', '2', '경고', '4', '0', '퇴장', '0', '0', '퇴장', '(경고누적)', '1', '0', '코너킥', '3', '7', '프리킥', '13', '0', '오프사이드', '2'], '5', '0')\n",
      "('제주', '포항')\n",
      "(7.69, 5.6)\n"
     ]
    }
   ],
   "source": [
    "# 22.8월 28라운드\n",
    "\n",
    "url_move(urlnum[27])\n",
    "response = chrome.page_source\n",
    "myform = BeautifulSoup(response).find('div', {'class':'btn-cont'})\n",
    "score = BeautifulSoup(response).find('div', {'class':'score campton'})\n",
    "print(myforms(myform,score)) #왼쪽 강원 오른쪽 포항\n",
    "print(teamname())\n",
    "print(myformAvg())\n",
    "filepath='C:/Users/kgitbank401/실습1/test.csv'\n",
    "csvFile = open(filepath,'a',newline='')\n",
    "writer = csv.writer(csvFile)\n",
    "Csv(writer,rounder[27])"
   ]
  },
  {
   "cell_type": "code",
   "execution_count": 30,
   "id": "a7b4b5f8",
   "metadata": {},
   "outputs": [
    {
     "name": "stdout",
     "output_type": "stream",
     "text": [
      "(['59.12', '점유율', '40.88', '7', '슈팅', '8', '5', '유효슈팅', '4', '17', '파울', '14', '4', '경고', '2', '0', '퇴장', '0', '0', '퇴장', '(경고누적)', '0', '3', '코너킥', '2', '17', '프리킥', '15', '0', '오프사이드', '1'], '4', '1')\n",
      "('포항', '대구')\n",
      "(7.75, 4.73)\n"
     ]
    }
   ],
   "source": [
    "# 22.9월 29라운드\n",
    "\n",
    "url_move(urlnum[28])\n",
    "response = chrome.page_source\n",
    "myform = BeautifulSoup(response).find('div', {'class':'btn-cont'})\n",
    "score = BeautifulSoup(response).find('div', {'class':'score campton'})\n",
    "print(myforms(myform,score)) #왼쪽 강원 오른쪽 포항\n",
    "print(teamname())\n",
    "print(myformAvg())\n",
    "filepath='C:/Users/kgitbank401/실습1/test.csv'\n",
    "csvFile = open(filepath,'a',newline='')\n",
    "writer = csv.writer(csvFile)\n",
    "Csv(writer,rounder[28])"
   ]
  },
  {
   "cell_type": "code",
   "execution_count": 31,
   "id": "910688bd",
   "metadata": {},
   "outputs": [
    {
     "name": "stdout",
     "output_type": "stream",
     "text": [
      "(['30.30', '점유율', '69.71', '12', '슈팅', '13', '10', '유효슈팅', '10', '6', '파울', '6', '1', '경고', '1', '0', '퇴장', '0', '0', '퇴장', '(경고누적)', '0', '5', '코너킥', '8', '7', '프리킥', '7', '1', '오프사이드', '1'], '1', '0')\n",
      "('수원', '포항')\n",
      "(7.62, 5.96)\n"
     ]
    }
   ],
   "source": [
    "# 22.9월 30라운드\n",
    "\n",
    "url_move(urlnum[29])\n",
    "response = chrome.page_source\n",
    "myform = BeautifulSoup(response).find('div', {'class':'btn-cont'})\n",
    "score = BeautifulSoup(response).find('div', {'class':'score campton'})\n",
    "print(myforms(myform,score)) #왼쪽 강원 오른쪽 포항\n",
    "print(teamname())\n",
    "print(myformAvg())\n",
    "filepath='C:/Users/kgitbank401/실습1/test.csv'\n",
    "csvFile = open(filepath,'a',newline='')\n",
    "writer = csv.writer(csvFile)\n",
    "Csv(writer,rounder[29])"
   ]
  },
  {
   "cell_type": "code",
   "execution_count": 32,
   "id": "a563b500",
   "metadata": {},
   "outputs": [
    {
     "name": "stdout",
     "output_type": "stream",
     "text": [
      "(['54.34', '점유율', '45.66', '10', '슈팅', '9', '9', '유효슈팅', '8', '12', '파울', '14', '3', '경고', '3', '0', '퇴장', '0', '0', '퇴장', '(경고누적)', '0', '2', '코너킥', '0', '12', '프리킥', '16', '0', '오프사이드', '2'], '1', '2')\n",
      "('울산', '포항')\n",
      "(7.02, 6.25)\n"
     ]
    }
   ],
   "source": [
    "# 22.9월 31라운드\n",
    "\n",
    "url_move(urlnum[30])\n",
    "response = chrome.page_source\n",
    "myform = BeautifulSoup(response).find('div', {'class':'btn-cont'})\n",
    "score = BeautifulSoup(response).find('div', {'class':'score campton'})\n",
    "print(myforms(myform,score)) #왼쪽 강원 오른쪽 포항\n",
    "print(teamname())\n",
    "print(myformAvg())\n",
    "filepath='C:/Users/kgitbank401/실습1/test.csv'\n",
    "csvFile = open(filepath,'a',newline='')\n",
    "writer = csv.writer(csvFile)\n",
    "Csv(writer,rounder[30])"
   ]
  },
  {
   "cell_type": "code",
   "execution_count": 33,
   "id": "3b80b5eb",
   "metadata": {},
   "outputs": [
    {
     "name": "stdout",
     "output_type": "stream",
     "text": [
      "(['45.56', '점유율', '54.44', '15', '슈팅', '8', '9', '유효슈팅', '4', '11', '파울', '18', '2', '경고', '4', '0', '퇴장', '0', '0', '퇴장', '(경고누적)', '0', '3', '코너킥', '8', '12', '프리킥', '21', '1', '오프사이드', '3'], '0', '2')\n",
      "('수원', '포항')\n",
      "(7.04, 6.6)\n"
     ]
    }
   ],
   "source": [
    "# 22.9월 32라운드\n",
    "\n",
    "url_move(urlnum[31])\n",
    "response = chrome.page_source\n",
    "myform = BeautifulSoup(response).find('div', {'class':'btn-cont'})\n",
    "score = BeautifulSoup(response).find('div', {'class':'score campton'})\n",
    "print(myforms(myform,score)) #왼쪽 강원 오른쪽 포항\n",
    "print(teamname())\n",
    "print(myformAvg())\n",
    "filepath='C:/Users/kgitbank401/실습1/test.csv'\n",
    "csvFile = open(filepath,'a',newline='')\n",
    "writer = csv.writer(csvFile)\n",
    "Csv(writer,rounder[31])"
   ]
  },
  {
   "cell_type": "code",
   "execution_count": 34,
   "id": "133b2a6e",
   "metadata": {},
   "outputs": [
    {
     "name": "stdout",
     "output_type": "stream",
     "text": [
      "(['33.44', '점유율', '66.56', '7', '슈팅', '14', '3', '유효슈팅', '6', '12', '파울', '13', '4', '경고', '2', '0', '퇴장', '0', '0', '퇴장', '(경고누적)', '0', '3', '코너킥', '10', '12', '프리킥', '15', '0', '오프사이드', '2'], '1', '1')\n",
      "('성남', '포항')\n",
      "(7.27, 5.98)\n"
     ]
    }
   ],
   "source": [
    "# 22.9월 33라운드\n",
    "\n",
    "url_move(urlnum[32])\n",
    "response = chrome.page_source\n",
    "myform = BeautifulSoup(response).find('div', {'class':'btn-cont'})\n",
    "score = BeautifulSoup(response).find('div', {'class':'score campton'})\n",
    "print(myforms(myform,score)) #왼쪽 강원 오른쪽 포항\n",
    "print(teamname())\n",
    "print(myformAvg())\n",
    "filepath='C:/Users/kgitbank401/실습1/test.csv'\n",
    "csvFile = open(filepath,'a',newline='')\n",
    "writer = csv.writer(csvFile)\n",
    "Csv(writer,rounder[32])"
   ]
  },
  {
   "cell_type": "code",
   "execution_count": 35,
   "id": "f8edcae3",
   "metadata": {},
   "outputs": [
    {
     "name": "stdout",
     "output_type": "stream",
     "text": [
      "(['43.15', '점유율', '56.85', '17', '슈팅', '6', '11', '유효슈팅', '2', '8', '파울', '17', '0', '경고', '3', '0', '퇴장', '0', '0', '퇴장', '(경고누적)', '0', '3', '코너킥', '8', '10', '프리킥', '17', '2', '오프사이드', '0'], '3', '1')\n",
      "('전북', '포항')\n",
      "(7.8, 6.0)\n"
     ]
    }
   ],
   "source": [
    "# 22.10월 34라운드\n",
    "\n",
    "url_move(urlnum[33])\n",
    "response = chrome.page_source\n",
    "myform = BeautifulSoup(response).find('div', {'class':'btn-cont'})\n",
    "score = BeautifulSoup(response).find('div', {'class':'score campton'})\n",
    "print(myforms(myform,score)) #왼쪽 강원 오른쪽 포항\n",
    "print(teamname())\n",
    "print(myformAvg())\n",
    "filepath='C:/Users/kgitbank401/실습1/test.csv'\n",
    "csvFile = open(filepath,'a',newline='')\n",
    "writer = csv.writer(csvFile)\n",
    "Csv(writer,rounder[33])"
   ]
  },
  {
   "cell_type": "code",
   "execution_count": 36,
   "id": "4060444b",
   "metadata": {},
   "outputs": [
    {
     "name": "stdout",
     "output_type": "stream",
     "text": [
      "(['54.54', '점유율', '45.46', '6', '슈팅', '10', '2', '유효슈팅', '4', '12', '파울', '10', '1', '경고', '1', '0', '퇴장', '0', '0', '퇴장', '(경고누적)', '0', '8', '코너킥', '1', '13', '프리킥', '12', '1', '오프사이드', '2'], '1', '2')\n",
      "('포항', '제주')\n",
      "(7.15, 6.47)\n"
     ]
    }
   ],
   "source": [
    "# 22.10월 35라운드\n",
    "\n",
    "url_move(urlnum[34])\n",
    "response = chrome.page_source\n",
    "myform = BeautifulSoup(response).find('div', {'class':'btn-cont'})\n",
    "score = BeautifulSoup(response).find('div', {'class':'score campton'})\n",
    "print(myforms(myform,score)) #왼쪽 강원 오른쪽 포항\n",
    "print(teamname())\n",
    "print(myformAvg())\n",
    "filepath='C:/Users/kgitbank401/실습1/test.csv'\n",
    "csvFile = open(filepath,'a',newline='')\n",
    "writer = csv.writer(csvFile)\n",
    "Csv(writer,rounder[34])"
   ]
  },
  {
   "cell_type": "code",
   "execution_count": 37,
   "id": "601822bd",
   "metadata": {},
   "outputs": [
    {
     "name": "stdout",
     "output_type": "stream",
     "text": [
      "(['63.38', '점유율', '36.62', '9', '슈팅', '4', '5', '유효슈팅', '2', '4', '파울', '7', '1', '경고', '4', '0', '퇴장', '0', '0', '퇴장', '(경고누적)', '0', '10', '코너킥', '2', '6', '프리킥', '7', '2', '오프사이드', '0'], '1', '1')\n",
      "('포항', '울산')\n",
      "(7.25, 6.05)\n"
     ]
    }
   ],
   "source": [
    "# 22.10월 36라운드\n",
    "\n",
    "url_move(urlnum[35])\n",
    "response = chrome.page_source\n",
    "myform = BeautifulSoup(response).find('div', {'class':'btn-cont'})\n",
    "score = BeautifulSoup(response).find('div', {'class':'score campton'})\n",
    "print(myforms(myform,score)) #왼쪽 강원 오른쪽 포항\n",
    "print(teamname())\n",
    "print(myformAvg())\n",
    "filepath='C:/Users/kgitbank401/실습1/test.csv'\n",
    "csvFile = open(filepath,'a',newline='')\n",
    "writer = csv.writer(csvFile)\n",
    "Csv(writer,rounder[35])"
   ]
  },
  {
   "cell_type": "code",
   "execution_count": 38,
   "id": "be1047bc",
   "metadata": {},
   "outputs": [
    {
     "name": "stdout",
     "output_type": "stream",
     "text": [
      "(['45.84', '점유율', '54.16', '13', '슈팅', '10', '7', '유효슈팅', '7', '8', '파울', '5', '0', '경고', '0', '0', '퇴장', '0', '0', '퇴장', '(경고누적)', '0', '2', '코너킥', '6', '9', '프리킥', '6', '1', '오프사이드', '1'], '1', '1')\n",
      "('인천', '포항')\n"
     ]
    },
    {
     "ename": "ValueError",
     "evalue": "could not convert string to float: '김보섭'",
     "output_type": "error",
     "traceback": [
      "\u001b[1;31m---------------------------------------------------------------------------\u001b[0m",
      "\u001b[1;31mValueError\u001b[0m                                Traceback (most recent call last)",
      "Cell \u001b[1;32mIn[38], line 9\u001b[0m\n\u001b[0;32m      7\u001b[0m \u001b[38;5;28mprint\u001b[39m(myforms(myform,score)) \u001b[38;5;66;03m#왼쪽 강원 오른쪽 포항\u001b[39;00m\n\u001b[0;32m      8\u001b[0m \u001b[38;5;28mprint\u001b[39m(teamname())\n\u001b[1;32m----> 9\u001b[0m \u001b[38;5;28mprint\u001b[39m(\u001b[43mmyformAvg\u001b[49m\u001b[43m(\u001b[49m\u001b[43m)\u001b[49m)\n\u001b[0;32m     10\u001b[0m filepath\u001b[38;5;241m=\u001b[39m\u001b[38;5;124m'\u001b[39m\u001b[38;5;124mC:/Users/kgitbank401/실습1/test.csv\u001b[39m\u001b[38;5;124m'\u001b[39m\n\u001b[0;32m     11\u001b[0m csvFile \u001b[38;5;241m=\u001b[39m \u001b[38;5;28mopen\u001b[39m(filepath,\u001b[38;5;124m'\u001b[39m\u001b[38;5;124ma\u001b[39m\u001b[38;5;124m'\u001b[39m,newline\u001b[38;5;241m=\u001b[39m\u001b[38;5;124m'\u001b[39m\u001b[38;5;124m'\u001b[39m)\n",
      "Cell \u001b[1;32mIn[2], line 31\u001b[0m, in \u001b[0;36mmyformAvg\u001b[1;34m()\u001b[0m\n\u001b[0;32m     29\u001b[0m myform \u001b[38;5;241m=\u001b[39m BeautifulSoup(response)\u001b[38;5;241m.\u001b[39mfind(\u001b[38;5;124m'\u001b[39m\u001b[38;5;124mdiv\u001b[39m\u001b[38;5;124m'\u001b[39m, {\u001b[38;5;124m'\u001b[39m\u001b[38;5;124mclass\u001b[39m\u001b[38;5;124m'\u001b[39m:\u001b[38;5;124m'\u001b[39m\u001b[38;5;124mformation\u001b[39m\u001b[38;5;124m'\u001b[39m})\n\u001b[0;32m     30\u001b[0m myforms \u001b[38;5;241m=\u001b[39m myform\u001b[38;5;241m.\u001b[39mget_text()\u001b[38;5;241m.\u001b[39mreplace(\u001b[38;5;124m'\u001b[39m\u001b[38;5;124m \u001b[39m\u001b[38;5;124m'\u001b[39m,\u001b[38;5;124m'\u001b[39m\u001b[38;5;124m'\u001b[39m)\u001b[38;5;241m.\u001b[39msplit()\n\u001b[1;32m---> 31\u001b[0m \u001b[38;5;28;01mreturn\u001b[39;00m \u001b[43mavg\u001b[49m\u001b[43m(\u001b[49m\u001b[43mmyforms\u001b[49m\u001b[43m)\u001b[49m\n",
      "Cell \u001b[1;32mIn[2], line 21\u001b[0m, in \u001b[0;36mavg\u001b[1;34m(myforms)\u001b[0m\n\u001b[0;32m     19\u001b[0m \u001b[38;5;28;01mfor\u001b[39;00m i \u001b[38;5;129;01min\u001b[39;00m \u001b[38;5;28mrange\u001b[39m(\u001b[38;5;28mlen\u001b[39m(myforms)):\n\u001b[0;32m     20\u001b[0m     \u001b[38;5;28;01mif\u001b[39;00m i \u001b[38;5;241m<\u001b[39m\u001b[38;5;241m=\u001b[39m \u001b[38;5;241m11\u001b[39m:\n\u001b[1;32m---> 21\u001b[0m         result \u001b[38;5;241m+\u001b[39m\u001b[38;5;241m=\u001b[39m \u001b[38;5;28;43mfloat\u001b[39;49m\u001b[43m(\u001b[49m\u001b[43mmyforms\u001b[49m\u001b[43m[\u001b[49m\u001b[43mi\u001b[49m\u001b[43m]\u001b[49m\u001b[43m[\u001b[49m\u001b[38;5;241;43m0\u001b[39;49m\u001b[43m:\u001b[49m\u001b[38;5;241;43m3\u001b[39;49m\u001b[43m]\u001b[49m\u001b[43m)\u001b[49m\n\u001b[0;32m     22\u001b[0m     \u001b[38;5;28;01melse\u001b[39;00m:\n\u001b[0;32m     23\u001b[0m         result2 \u001b[38;5;241m+\u001b[39m\u001b[38;5;241m=\u001b[39m\u001b[38;5;28mfloat\u001b[39m(myforms[i][\u001b[38;5;241m0\u001b[39m:\u001b[38;5;241m3\u001b[39m])\n",
      "\u001b[1;31mValueError\u001b[0m: could not convert string to float: '김보섭'"
     ]
    }
   ],
   "source": [
    "# 22.10월 37라운드\n",
    "\n",
    "url_move(urlnum[36])\n",
    "response = chrome.page_source\n",
    "myform = BeautifulSoup(response).find('div', {'class':'btn-cont'})\n",
    "score = BeautifulSoup(response).find('div', {'class':'score campton'})\n",
    "print(myforms(myform,score)) #왼쪽 강원 오른쪽 포항\n",
    "print(teamname())\n",
    "print(myformAvg())\n",
    "filepath='C:/Users/kgitbank401/실습1/test.csv'\n",
    "csvFile = open(filepath,'a',newline='')\n",
    "writer = csv.writer(csvFile)\n",
    "Csv(writer,rounder[36])"
   ]
  },
  {
   "cell_type": "code",
   "execution_count": 39,
   "id": "2d8c7f77",
   "metadata": {},
   "outputs": [
    {
     "name": "stdout",
     "output_type": "stream",
     "text": [
      "(['53.33', '점유율', '46.67', '7', '슈팅', '6', '1', '유효슈팅', '1', '9', '파울', '9', '1', '경고', '3', '0', '퇴장', '0', '0', '퇴장', '(경고누적)', '0', '2', '코너킥', '4', '11', '프리킥', '9', '2', '오프사이드', '0'], '1', '0')\n",
      "('포항', '강원')\n",
      "(7.58, 5.98)\n"
     ]
    }
   ],
   "source": [
    "# 22.10월 38라운드\n",
    "\n",
    "url_move(urlnum[37])\n",
    "response = chrome.page_source\n",
    "myform = BeautifulSoup(response).find('div', {'class':'btn-cont'})\n",
    "score = BeautifulSoup(response).find('div', {'class':'score campton'})\n",
    "print(myforms(myform,score)) #왼쪽 강원 오른쪽 포항\n",
    "print(teamname())\n",
    "print(myformAvg())\n",
    "filepath='C:/Users/kgitbank401/실습1/test.csv'\n",
    "csvFile = open(filepath,'a',newline='')\n",
    "writer = csv.writer(csvFile)\n",
    "Csv(writer,rounder[37])"
   ]
  },
  {
   "cell_type": "code",
   "execution_count": 124,
   "id": "196c4a85",
   "metadata": {},
   "outputs": [
    {
     "name": "stdout",
     "output_type": "stream",
     "text": [
      "([1, 2, 3, 4], 6, [7, 8])\n"
     ]
    }
   ],
   "source": []
  },
  {
   "cell_type": "code",
   "execution_count": null,
   "id": "8e5e00b4",
   "metadata": {},
   "outputs": [],
   "source": []
  },
  {
   "cell_type": "code",
   "execution_count": null,
   "id": "2f2087a6",
   "metadata": {},
   "outputs": [],
   "source": []
  },
  {
   "cell_type": "code",
   "execution_count": null,
   "id": "70af8fe9",
   "metadata": {},
   "outputs": [],
   "source": []
  }
 ],
 "metadata": {
  "kernelspec": {
   "display_name": "Python 3 (ipykernel)",
   "language": "python",
   "name": "python3"
  },
  "language_info": {
   "codemirror_mode": {
    "name": "ipython",
    "version": 3
   },
   "file_extension": ".py",
   "mimetype": "text/x-python",
   "name": "python",
   "nbconvert_exporter": "python",
   "pygments_lexer": "ipython3",
   "version": "3.10.9"
  }
 },
 "nbformat": 4,
 "nbformat_minor": 5
}
